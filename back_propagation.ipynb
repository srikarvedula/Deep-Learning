{
 "cells": [
  {
   "cell_type": "code",
   "execution_count": 4,
   "metadata": {},
   "outputs": [
    {
     "name": "stdout",
     "output_type": "stream",
     "text": [
      "random starting synaptic weights\n",
      "[[-0.16595599]\n",
      " [ 0.44064899]\n",
      " [-0.99977125]]\n",
      "Initial Error rate\n",
      "[0.23762817]\n",
      "SetInput:\n",
      "[[0 0 1]\n",
      " [1 1 1]\n",
      " [1 0 1]\n",
      " [0 1 1]]\n",
      "SetOutput:\n",
      "[[0]\n",
      " [1]\n",
      " [1]\n",
      " [0]]\n",
      "new weights after back propagation\n",
      "[[-13.2822176 ]\n",
      " [  0.43386739]\n",
      " [  6.2179114 ]]\n",
      "Final Error rate\n",
      "[0.00085436]\n"
     ]
    }
   ],
   "source": [
    "from numpy import *\n",
    "class NeuralNetwork(object):\n",
    "    def __init__(self):\n",
    "        # seed the genarator\n",
    "        random.seed(1)\n",
    "        self.synaptic_weights = 2 * random.random((3,1)) - 1\n",
    "\n",
    "    def __sigmoid(self, x):\n",
    "        # the sigmoid function where we pass the weighted sums of the input through this function\n",
    "        return 1 /(1 + exp(-x))\n",
    "    \n",
    "    def predict(self, inputs):\n",
    "        #Taking the dot product between the input and weight vectors\n",
    "        return self.__sigmoid(dot(inputs, self.synaptic_weights))\n",
    "\n",
    "    def __sigmoid_derivative(self, x):\n",
    "        #derivative of the sigmoid function\n",
    "        return x * (x - 1)\n",
    "    def train(self, trainingSetInputs, trainingSetOutputs, numberOfIterations):\n",
    "        for iteration in range(numberOfIterations):\n",
    "            output = self.predict(trainingSetInputs)\n",
    "            error = trainingSetOutputs - output\n",
    "            #Adjust the next set of weights (back propagation) \n",
    "            adjustment = dot(trainingSetInputs.T, error * self.__sigmoid_derivative(output))\n",
    "            self.synaptic_weights += adjustment\n",
    "   \n",
    "\n",
    "if __name__ == '__main__':\n",
    "    # make one network\n",
    "    neuralNetwork = NeuralNetwork()\n",
    "    print('random starting synaptic weights')\n",
    "    print(neuralNetwork.synaptic_weights)\n",
    "    print(\"Initial Error rate\")\n",
    "    print(neuralNetwork.predict(array([1,0,1])))\n",
    "\n",
    "    # training data\n",
    "    trainingSetInputs = array([[0,0,1], [1,1,1], [1,0,1], [0,1,1]])\n",
    "    print(\"SetInput:\")\n",
    "    print(trainingSetInputs)\n",
    "    trainingSetOutputs = array([[0,1,1,0]]).T\n",
    "    print(\"SetOutput:\")\n",
    "    print(trainingSetOutputs)\n",
    "\n",
    "    #train the network 1000 times\n",
    "    neuralNetwork.train(trainingSetInputs, trainingSetOutputs, 1000)\n",
    "\n",
    "    print('new weights after back propagation')\n",
    "    print(neuralNetwork.synaptic_weights)\n",
    "\n",
    "    # test the network\n",
    "    print(\"Final Error rate\")\n",
    "    print(neuralNetwork.predict(array([1,0,1])))"
   ]
  },
  {
   "cell_type": "code",
   "execution_count": null,
   "metadata": {},
   "outputs": [],
   "source": []
  },
  {
   "cell_type": "code",
   "execution_count": null,
   "metadata": {},
   "outputs": [],
   "source": []
  }
 ],
 "metadata": {
  "kernelspec": {
   "display_name": "Python 3",
   "language": "python",
   "name": "python3"
  },
  "language_info": {
   "codemirror_mode": {
    "name": "ipython",
    "version": 3
   },
   "file_extension": ".py",
   "mimetype": "text/x-python",
   "name": "python",
   "nbconvert_exporter": "python",
   "pygments_lexer": "ipython3",
   "version": "3.6.7"
  }
 },
 "nbformat": 4,
 "nbformat_minor": 2
}
